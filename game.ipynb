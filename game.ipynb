{
 "cells": [
  {
   "cell_type": "code",
   "execution_count": 1,
   "id": "a4550bc9",
   "metadata": {},
   "outputs": [
    {
     "name": "stdout",
     "output_type": "stream",
     "text": [
      "Your health: 100\n",
      "Enemy health: 100\n",
      "1. Attack\n",
      "2. Defend\n",
      "Enter your choice: 1\n",
      "You attacked the enemy and deal 20 points of damage.\n",
      "Your health: 100\n",
      "Enemy health: 80\n",
      "1. Attack\n",
      "2. Defend\n",
      "Enter your choice: 2\n",
      "You defend and take 10 points of damage.\n",
      "Your health: 90\n",
      "Enemy health: 80\n",
      "1. Attack\n",
      "2. Defend\n",
      "Enter your choice: 1\n",
      "You attacked the enemy and deal 20 points of damage.\n",
      "Your health: 90\n",
      "Enemy health: 60\n",
      "1. Attack\n",
      "2. Defend\n",
      "Enter your choice: 1\n",
      "You attacked the enemy and deal 20 points of damage.\n",
      "Your health: 90\n",
      "Enemy health: 40\n",
      "1. Attack\n",
      "2. Defend\n",
      "Enter your choice: 1\n",
      "You attacked the enemy and deal 20 points of damage.\n",
      "Your health: 90\n",
      "Enemy health: 20\n",
      "1. Attack\n",
      "2. Defend\n",
      "Enter your choice: 1\n",
      "You attacked the enemy and deal 20 points of damage.\n",
      "You have defeated the enemy!\n"
     ]
    }
   ],
   "source": [
    "# Action Game\n",
    "\n",
    "# Initialize variables\n",
    "health = 100\n",
    "enemy_health = 100\n",
    "\n",
    "# Start game loop\n",
    "while health > 0 and enemy_health > 0:\n",
    "    # Print health\n",
    "    print(\"Your health:\", health)\n",
    "    print(\"Enemy health:\", enemy_health)\n",
    "\n",
    "    # Get player input\n",
    "    print(\"1. Attack\")\n",
    "    print(\"2. Defend\")\n",
    "    choice = int(input(\"Enter your choice: \"))\n",
    "\n",
    "    # Attack\n",
    "    if choice == 1:\n",
    "        damage = 20\n",
    "        enemy_health = enemy_health - damage\n",
    "        print(\"You attacked the enemy and deal\", damage, \"points of damage.\")\n",
    "    # Defend\n",
    "    elif choice == 2:\n",
    "        damage = 10\n",
    "        health = health - damage\n",
    "        print(\"You defend and take\", damage, \"points of damage.\")\n",
    "    # Invalid input\n",
    "    else:\n",
    "        print(\"Invalid choice\")\n",
    "\n",
    "# Game over\n",
    "if health <= 0:\n",
    "    print(\"You have been defeated!\")\n",
    "else:\n",
    "    print(\"You have defeated the enemy!\")\n"
   ]
  },
  {
   "cell_type": "code",
   "execution_count": null,
   "id": "34efe433",
   "metadata": {},
   "outputs": [],
   "source": []
  }
 ],
 "metadata": {
  "kernelspec": {
   "display_name": "Python 3 (ipykernel)",
   "language": "python",
   "name": "python3"
  },
  "language_info": {
   "codemirror_mode": {
    "name": "ipython",
    "version": 3
   },
   "file_extension": ".py",
   "mimetype": "text/x-python",
   "name": "python",
   "nbconvert_exporter": "python",
   "pygments_lexer": "ipython3",
   "version": "3.9.12"
  }
 },
 "nbformat": 4,
 "nbformat_minor": 5
}
